{
 "cells": [
  {
   "metadata": {
    "ExecuteTime": {
     "end_time": "2025-01-02T07:27:57.652594Z",
     "start_time": "2025-01-02T07:27:56.503683Z"
    }
   },
   "cell_type": "markdown",
   "source": [
    "# Statistics\n",
    "## Run statistics"
   ],
   "id": "ce996ddae4b8164e"
  },
  {
   "cell_type": "code",
   "id": "initial_id",
   "metadata": {
    "collapsed": true,
    "ExecuteTime": {
     "end_time": "2024-12-23T07:08:07.168989Z",
     "start_time": "2024-12-23T07:08:06.737376Z"
    }
   },
   "source": [
    "%autoreload 2 \n",
    "import numpy as np \n",
    "from pianoq.misc.mplt import mplot, mimshow\n",
    "from pianoq.simulations.abstract_quantum_scaling.qwfs_simulation import QWFSSimulation, QWFSResult\n",
    "from pianoq.misc.mplc_writeup_imports import * \n"
   ],
   "execution_count": 1,
   "outputs": []
  },
  {
   "metadata": {
    "ExecuteTime": {
     "end_time": "2025-01-02T07:28:09.712227Z",
     "start_time": "2025-01-02T07:28:09.616722Z"
    }
   },
   "cell_type": "code",
   "source": [
    "# algos = ['slsqp', \"L-BFGS-B\", 'simulated_annealing', 'genetic_algorithm', 'PSO']\n",
    "# algos = ['slsqp', \"L-BFGS-B\", 'simulated_annealing', 'genetic_algorithm', 'analytic']\n",
    "# algos = ['L-BFGS-B', 'analytic']\n",
    "# configs = ['SLM1', 'SLM2', 'SLM3']\n",
    "# configs = ['SLM1', 'SLM1-only-T', 'SLM2', 'SLM2-simple', 'SLM2-simple-OPC', 'SLM3']\n",
    "\n",
    "# for N_modes in [32, 64, 96, 128, 160, 192, 224, 256, 288, 320, 352]:\n",
    "# for N_modes in [2, 4, 8, 12, 16, 20, 26, 32, 64, 96, 128, 160, 192, 224, 256, 288, 320, 352]:\n",
    "for N_modes in [256]:\n",
    "# for N_pixels in [4, 8, 16, 24, 32, 48, 64, 128, 160, 192, 256]:\n",
    "# for sig_for_guass_T in [0.3, 0.5, 0.7, 0.9, 1.1]:\n",
    "#     N_modes = 256 \n",
    "    # print(f'-----{sig_for_guass_T=}------')\n",
    "    # algos = ['L-BFGS-B', 'analytic']\n",
    "    configs = ['SLM3', 'SLM3-same-mode']\n",
    "    # algos = ['autograd', 'L-BFGS-B', 'analytic']\n",
    "    algos = ['autograd-adam', 'autograd-lbfgs']\n",
    "    # configs = ['SLM1-only-T', 'SLM1', 'SLM2', 'SLM2-simple-OPC', 'SLM3', 'SLM3-same-mode']\n",
    "    # configs = ['SLM1-only-T', 'SLM2', 'SLM2-simple-OPC', 'SLM3', 'SLM3-same-mode']\n",
    "    # configs = ['SLM1', 'SLM1-same-mode']\n",
    "    # configs = ['SLM1', 'SLM1-after', 'SLM1-same-mode', 'SLM1-only-T', 'SLM1-only-T-after']\n",
    "    T_methods = ['unitary', 'gaus_iid']\n",
    "    # T_methods = ['gaus_iid']\n",
    "    N_tries = 10\n",
    "    \n",
    "    s = QWFSSimulation(N=N_modes)\n",
    "    # s.N_pixels = N_pixels\n",
    "    # s.cost_function = 'contrast'\n",
    "    # s.sig_for_gauss_iid = sig_for_guass_T\n",
    "    # note = f'slm3_sig={sig_for_guass_T}_{N_tries}_tries_many_configs'\n",
    "    note = f'autograd_adam_lbfgs_N={N_modes}_{N_tries}_tries'\n",
    "    saveto_path = rf'G:\\My Drive\\Projects\\MPLC\\results\\simulations\\{tnow()}_qwfs_{note}.npz'\n",
    "    res = s.statistics(algos=algos, configs=configs, T_methods=T_methods, N_tries=N_tries, saveto_path=saveto_path)\n",
    "\n",
    "# results = np.zeros((N_T_methods, N_configs, N_tries, N_algos))\n",
    "res.print()\n",
    "res.show_scatterplots()\n",
    "plt.show()"
   ],
   "id": "a9e8ad74d12c2056",
   "execution_count": 13,
   "outputs": []
  },
  {
   "metadata": {},
   "cell_type": "markdown",
   "source": "## Show results ",
   "id": "2d13905a2bb32b9c"
  },
  {
   "metadata": {
    "ExecuteTime": {
     "end_time": "2024-11-13T11:37:08.269752Z",
     "start_time": "2024-11-13T11:37:08.160767Z"
    }
   },
   "cell_type": "code",
   "source": [
    "print(np.pi/4)\n",
    "print((np.pi/4)**2)"
   ],
   "id": "c029b72768894daf",
   "execution_count": 31,
   "outputs": []
  },
  {
   "metadata": {
    "ExecuteTime": {
     "end_time": "2024-12-24T10:32:12.615353Z",
     "start_time": "2024-12-24T10:21:21.391362Z"
    }
   },
   "cell_type": "code",
   "source": [
    "res.print()\n",
    "res.show_scatterplots()\n",
    "plt.show()"
   ],
   "id": "dfd34f8083b35f5d",
   "execution_count": 87,
   "outputs": []
  },
  {
   "metadata": {
    "ExecuteTime": {
     "end_time": "2024-11-27T07:53:31.821485Z",
     "start_time": "2024-11-27T07:53:28.854156Z"
    }
   },
   "cell_type": "code",
   "source": [
    "# comparing whether they find the same phases \n",
    "# mplot(best_phases[0, 2, 0, :3].T)\n",
    "path = r\"G:\\My Drive\\Projects\\MPLC\\results\\simulations\\2024_11_26_16_55_09_qwfs_long_with_analytic.npz\"\n",
    "res = QWFSResult(path)"
   ],
   "id": "df2e2d62dc03694",
   "execution_count": 61,
   "outputs": []
  },
  {
   "metadata": {
    "ExecuteTime": {
     "end_time": "2024-11-27T09:04:51.105194Z",
     "start_time": "2024-11-27T09:04:50.028613Z"
    }
   },
   "cell_type": "code",
   "source": [
    "res.show_violings()\n",
    "plt.show(block=False)"
   ],
   "id": "8934edadf7b75d2f",
   "execution_count": 95,
   "outputs": []
  },
  {
   "metadata": {
    "ExecuteTime": {
     "end_time": "2024-11-26T13:38:31.845456Z",
     "start_time": "2024-11-26T13:38:31.742552Z"
    }
   },
   "cell_type": "code",
   "source": [
    "# res.__dict__.keys()\n",
    "# res.__dict__['arr_0'].item()['configs']\n",
    "res.arr_0.item()['results'].mean()"
   ],
   "id": "b27399782b24ed9e",
   "execution_count": 26,
   "outputs": []
  },
  {
   "metadata": {},
   "cell_type": "markdown",
   "source": "## Understand SLM3 outputs ",
   "id": "8df22a0db4504caf"
  },
  {
   "metadata": {
    "ExecuteTime": {
     "end_time": "2024-11-28T11:53:46.181657Z",
     "start_time": "2024-11-28T11:53:43.492739Z"
    }
   },
   "cell_type": "code",
   "source": [
    "path = r\"G:\\My Drive\\Projects\\MPLC\\results\\simulations\\2024_11_26_16_55_09_qwfs_long_with_analytic.npz\"\n",
    "# path = r\"G:\\My Drive\\Projects\\MPLC\\results\\simulations\\2024_11_28_12_38_28_qwfs_slm3_N=256_2_tries.npz\"\n",
    "res = QWFSResult(path)"
   ],
   "id": "a0902c4a89aeff8b",
   "execution_count": 183,
   "outputs": []
  },
  {
   "metadata": {},
   "cell_type": "markdown",
   "source": "### Intensity at sum and distibution at crystal and camera plane",
   "id": "d489dc5d01dc3e5b"
  },
  {
   "metadata": {
    "ExecuteTime": {
     "end_time": "2024-11-28T08:27:58.366713Z",
     "start_time": "2024-11-28T08:27:58.169788Z"
    }
   },
   "cell_type": "code",
   "source": [
    "# results.shape == N_T_methods, N_configs, N_tries, N_algos\n",
    "# best_phases.shape == N_T_methods, N_configs, N_tries, N_algos, self.N\n",
    "try_no = np.random.randint(res.N_tries)\n",
    "# try_no = 5\n",
    "alg = 'L-BFGS-B'\n",
    "config = 'SLM3'\n",
    "# T_method = 'unitary'\n",
    "T_method = 'gaus_iid'\n",
    "alg_ind = np.where(res.algos == alg)[0]\n",
    "conf_ind = np.where(res.configs == config)[0]\n",
    "T_method_ind = np.where(res.T_methods == T_method)[0] \n",
    "\n",
    "T_ind = res.N_T_methods * try_no + T_method_ind \n",
    "T = res.Ts[T_ind].squeeze()\n",
    "slm_phases = res.best_phases[T_method_ind, conf_ind, try_no, alg_ind].squeeze()\n",
    "N = len(slm_phases)\n",
    "\n",
    "sim = QWFSSimulation(N=N)\n",
    "sim.T = T \n",
    "sim.slm_phases = np.exp(1j*slm_phases)\n",
    "sim.config = config\n",
    "v_out = sim.propagate()\n",
    "I_out = np.abs(v_out)**2\n",
    "I_in = np.abs(sim.v_in)**2\n",
    "v_middle = sim.T.transpose() @ (sim.slm_phases * sim.v_in)\n",
    "I_middle = np.abs(v_middle)**2\n",
    "v_back_before_ft = sim.T @ v_middle\n",
    "I_back_before_ft = np.abs(v_back_before_ft)**2\n",
    "v_final_manual = np.fft.fft(v_back_before_ft) / np.sqrt(sim.N)\n",
    "I_final_manual = np.abs(v_final_manual)**2\n",
    "fig, ax = plt.subplots()\n",
    "ax.plot(I_out, label='I_out')\n",
    "ax.plot(I_middle, label='I_middle')\n",
    "# ax.set_ylim([0, 0.05])\n",
    "ax.legend()\n",
    "fig.show()\n",
    "print(f'{I_in.sum()=}')\n",
    "print(f'{I_middle.sum()=}')\n",
    "print(f'{I_back_before_ft.sum()=}')\n",
    "print(f'{I_final_manual.sum()=}')\n",
    "print(f'{I_out.sum()=}')"
   ],
   "id": "c79fcc28a7485cd1",
   "execution_count": 165,
   "outputs": []
  },
  {
   "metadata": {
    "ExecuteTime": {
     "end_time": "2024-11-27T12:56:45.270515Z",
     "start_time": "2024-11-27T12:56:45.098402Z"
    }
   },
   "cell_type": "code",
   "source": "mplot((np.abs(T@T.transpose())**2).sum(axis=0))",
   "id": "baa5910e44ebbf7",
   "execution_count": 74,
   "outputs": []
  },
  {
   "metadata": {},
   "cell_type": "markdown",
   "source": "### How much intensity do we get from random phases ",
   "id": "4719fbba1e2f08ea"
  },
  {
   "metadata": {
    "ExecuteTime": {
     "end_time": "2024-11-28T08:35:48.947377Z",
     "start_time": "2024-11-28T08:34:31.851350Z"
    }
   },
   "cell_type": "code",
   "source": [
    "Is = []\n",
    "for i in range(1000):\n",
    "    random_phases = np.random.uniform(0, 2*np.pi, sim.N)\n",
    "    sim.slm_phases = np.exp(1j*random_phases)\n",
    "    # sim.slm_phases = np.exp(1j*slm_phases)\n",
    "    v_out = sim.propagate()\n",
    "    I_out = np.abs(v_out)**2\n",
    "    Is.append(I_out.sum())\n",
    "    # print(f'{I_out.sum()=}')"
   ],
   "id": "b79d745d4433179",
   "execution_count": 176,
   "outputs": []
  },
  {
   "metadata": {
    "ExecuteTime": {
     "end_time": "2024-11-28T08:35:53.151444Z",
     "start_time": "2024-11-28T08:35:52.667959Z"
    }
   },
   "cell_type": "code",
   "source": [
    "fig, ax = plt.subplots(figsize=(10, 6))\n",
    "\n",
    "# Create the histogram\n",
    "ax.hist(Is, bins=100, edgecolor='black', alpha=0.7)\n",
    "ax.set_title('Histogram of Intensities (Is)')\n",
    "ax.set_xlabel('Intensity Values')\n",
    "ax.set_ylabel('Frequency')\n",
    "\n",
    "# Add statistical lines\n",
    "ax.axvline(np.mean(Is), color='red', linestyle='dashed', linewidth=2, \n",
    "           label=f'Mean: {np.mean(Is):.2f}')\n",
    "ax.axvline(np.median(Is), color='green', linestyle='dashed', linewidth=2, \n",
    "           label=f'Median: {np.median(Is):.2f}')\n",
    "\n",
    "ax.legend()\n",
    "ax.grid(True, alpha=0.3)\n",
    "\n",
    "# Adjust layout and display\n",
    "plt.tight_layout()\n",
    "fig.show()"
   ],
   "id": "467167d2e8b72313",
   "execution_count": 177,
   "outputs": []
  }
 ],
 "metadata": {
  "kernelspec": {
   "display_name": "Python 3",
   "language": "python",
   "name": "python3"
  },
  "language_info": {
   "codemirror_mode": {
    "name": "ipython",
    "version": 2
   },
   "file_extension": ".py",
   "mimetype": "text/x-python",
   "name": "python",
   "nbconvert_exporter": "python",
   "pygments_lexer": "ipython2",
   "version": "2.7.6"
  }
 },
 "nbformat": 4,
 "nbformat_minor": 5
}
