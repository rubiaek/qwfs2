{
 "cells": [
  {
   "metadata": {
    "ExecuteTime": {
     "end_time": "2025-01-02T09:01:54.774965Z",
     "start_time": "2025-01-02T09:01:51.923251Z"
    }
   },
   "cell_type": "code",
   "source": [
    "%autoreload 2 \n",
    "import os \n",
    "import numpy as np \n",
    "np.random.seed(42)\n",
    "from qwfs.qwfs_simulation import QWFSSimulation\n",
    "from qwfs.simple_utils import tnow\n",
    "DATA_DIR = os.path.join(os.path.abspath(os.path.curdir), 'data')"
   ],
   "id": "bc6b97dee806a7e2",
   "outputs": [],
   "execution_count": 2
  },
  {
   "metadata": {},
   "cell_type": "markdown",
   "source": "# 1) Assert analytic results agree with ADAM",
   "id": "6f70f84f4c93e90e"
  },
  {
   "metadata": {
    "ExecuteTime": {
     "end_time": "2025-01-02T08:15:15.991604Z",
     "start_time": "2025-01-02T08:14:23.394710Z"
    }
   },
   "cell_type": "code",
   "source": [
    "N_modes = 256 \n",
    "N_tries = 20\n",
    "configs = ['SLM1-only-T', 'SLM2-simple', 'SLM2-simple-OPC']\n",
    "T_methods = ['unitary', 'gaus_iid']\n",
    "algos = ['autograd-adam', 'analytic']\n",
    "saveto_path = rf'{DATA_DIR}\\{tnow()}_adam_vrs_analytic.npz'\n",
    "\n",
    "s = QWFSSimulation(N=N_modes)\n",
    "res = s.statistics(algos=algos, configs=configs, T_methods=T_methods, N_tries=N_tries, saveto_path=saveto_path, save_Ts=False, save_phases=True)"
   ],
   "id": "1ddf336574290371",
   "outputs": [
    {
     "name": "stdout",
     "output_type": "stream",
     "text": [
      "try_no=0\n",
      "try_no=1\n",
      "try_no=2\n",
      "try_no=3\n",
      "try_no=4\n",
      "try_no=5\n",
      "try_no=6\n",
      "try_no=7\n",
      "try_no=8\n",
      "try_no=9\n",
      "try_no=10\n",
      "try_no=11\n",
      "try_no=12\n",
      "try_no=13\n",
      "try_no=14\n",
      "try_no=15\n",
      "try_no=16\n",
      "try_no=17\n",
      "try_no=18\n",
      "try_no=19\n"
     ]
    }
   ],
   "execution_count": 20
  },
  {
   "metadata": {
    "ExecuteTime": {
     "end_time": "2025-01-02T09:08:41.067461Z",
     "start_time": "2025-01-02T09:05:18.175447Z"
    }
   },
   "cell_type": "code",
   "source": [
    "N_modes = 256 \n",
    "N_tries = 50\n",
    "configs = ['SLM1', 'SLM2', 'SLM2-same-mode']\n",
    "T_methods = ['unitary', 'gaus_iid']\n",
    "algos = ['autograd-adam']\n",
    "saveto_path = rf'{DATA_DIR}\\{tnow()}_adam_SLM1_SLM2_with_FFTs.npz'\n",
    "\n",
    "s = QWFSSimulation(N=N_modes)\n",
    "res = s.statistics(algos=algos, configs=configs, T_methods=T_methods, N_tries=N_tries, saveto_path=saveto_path, save_Ts=False, save_phases=False)"
   ],
   "id": "87b57fd0b6f0c7fc",
   "outputs": [
    {
     "name": "stdout",
     "output_type": "stream",
     "text": [
      "try_no=0\n",
      "try_no=1\n",
      "try_no=2\n",
      "try_no=3\n",
      "try_no=4\n",
      "try_no=5\n",
      "try_no=6\n",
      "try_no=7\n",
      "try_no=8\n",
      "try_no=9\n",
      "try_no=10\n",
      "try_no=11\n",
      "try_no=12\n",
      "try_no=13\n",
      "try_no=14\n",
      "try_no=15\n",
      "try_no=16\n",
      "try_no=17\n",
      "try_no=18\n",
      "try_no=19\n",
      "try_no=20\n",
      "try_no=21\n",
      "try_no=22\n",
      "try_no=23\n",
      "try_no=24\n",
      "try_no=25\n",
      "try_no=26\n",
      "try_no=27\n",
      "try_no=28\n",
      "try_no=29\n",
      "try_no=30\n",
      "try_no=31\n",
      "try_no=32\n",
      "try_no=33\n",
      "try_no=34\n",
      "try_no=35\n",
      "try_no=36\n",
      "try_no=37\n",
      "try_no=38\n",
      "try_no=39\n",
      "try_no=40\n",
      "try_no=41\n",
      "try_no=42\n",
      "try_no=43\n",
      "try_no=44\n",
      "try_no=45\n",
      "try_no=46\n",
      "try_no=47\n",
      "try_no=48\n",
      "try_no=49\n"
     ]
    }
   ],
   "execution_count": 4
  },
  {
   "metadata": {},
   "cell_type": "markdown",
   "source": "# 2) comparing optimizers ",
   "id": "95c7ca96a31b33ac"
  },
  {
   "metadata": {},
   "cell_type": "code",
   "outputs": [],
   "execution_count": null,
   "source": [
    "for N_modes in [32, 64]:\n",
    "    N_tries = 20\n",
    "    configs = ['SLM3', 'SLM3-same-mode']\n",
    "    T_methods = ['unitary', 'gaus_iid']\n",
    "    algos = ['L-BFGS-B', 'simulated_annealing', 'autograd-adam', 'autograd-lbfgs']\n",
    "    saveto_path = rf'{DATA_DIR}\\{tnow()}_different_optimizers_{N_tries}_tries_{N_modes}_modes.npz'\n",
    "    \n",
    "    s = QWFSSimulation(N=N_modes)\n",
    "    res = s.statistics(algos=algos, configs=configs, T_methods=T_methods, N_tries=N_tries, saveto_path=saveto_path, save_Ts=False, save_phases=False)"
   ],
   "id": "f001a351f1cba65b"
  },
  {
   "metadata": {
    "ExecuteTime": {
     "end_time": "2025-01-02T07:30:17.482587Z",
     "start_time": "2025-01-02T07:30:17.127353Z"
    }
   },
   "cell_type": "markdown",
   "source": [
    "# 3) SLM3 results, full control, N=256\n",
    "From these results we quote the approximate SLM3 results"
   ],
   "id": "ce996ddae4b8164e"
  },
  {
   "metadata": {
    "jupyter": {
     "is_executing": true
    },
    "ExecuteTime": {
     "start_time": "2025-01-02T09:10:41.597354Z"
    }
   },
   "cell_type": "code",
   "source": [
    "N_modes = 256 \n",
    "N_tries = 200\n",
    "configs = ['SLM3', 'SLM3-same-mode']\n",
    "T_methods = ['unitary', 'gaus_iid']\n",
    "algos = ['autograd-adam', 'autograd-lbfgs']\n",
    "saveto_path = rf'{DATA_DIR}\\{tnow()}_SLM3_{N_tries}_tries.npz'\n",
    "\n",
    "s = QWFSSimulation(N=N_modes)\n",
    "res = s.statistics(algos=algos, configs=configs, T_methods=T_methods, N_tries=N_tries, saveto_path=saveto_path, save_Ts=False, save_phases=False)"
   ],
   "id": "5cae02cff1cea4ec",
   "outputs": [
    {
     "name": "stdout",
     "output_type": "stream",
     "text": [
      "try_no=0\n",
      "try_no=1\n",
      "try_no=2\n",
      "try_no=3\n",
      "try_no=4\n",
      "try_no=5\n",
      "try_no=6\n",
      "try_no=7\n",
      "try_no=8\n",
      "try_no=9\n",
      "try_no=10\n",
      "try_no=11\n",
      "try_no=12\n",
      "try_no=13\n",
      "try_no=14\n",
      "try_no=15\n",
      "try_no=16\n",
      "try_no=17\n",
      "try_no=18\n",
      "try_no=19\n",
      "try_no=20\n",
      "try_no=21\n",
      "try_no=22\n",
      "try_no=23\n"
     ]
    }
   ],
   "execution_count": null
  },
  {
   "metadata": {},
   "cell_type": "code",
   "outputs": [],
   "execution_count": null,
   "source": "",
   "id": "946396d3e71df098"
  },
  {
   "metadata": {},
   "cell_type": "markdown",
   "source": "# OLD ",
   "id": "d7c00d7c151070d3"
  },
  {
   "metadata": {
    "ExecuteTime": {
     "end_time": "2025-01-02T07:30:39.288536Z",
     "start_time": "2025-01-02T07:30:39.160627Z"
    }
   },
   "cell_type": "code",
   "source": [
    "# algos = ['slsqp', \"L-BFGS-B\", 'simulated_annealing', 'genetic_algorithm', 'PSO']\n",
    "# algos = ['slsqp', \"L-BFGS-B\", 'simulated_annealing', 'genetic_algorithm', 'analytic']\n",
    "# algos = ['L-BFGS-B', 'analytic']\n",
    "# configs = ['SLM1', 'SLM2', 'SLM3']\n",
    "# configs = ['SLM1', 'SLM1-only-T', 'SLM2', 'SLM2-simple', 'SLM2-simple-OPC', 'SLM3']\n",
    "\n",
    "# for N_modes in [32, 64, 96, 128, 160, 192, 224, 256, 288, 320, 352]:\n",
    "# for N_modes in [2, 4, 8, 12, 16, 20, 26, 32, 64, 96, 128, 160, 192, 224, 256, 288, 320, 352]:\n",
    "for N_modes in [256]:\n",
    "# for N_pixels in [4, 8, 16, 24, 32, 48, 64, 128, 160, 192, 256]:\n",
    "# for sig_for_guass_T in [0.3, 0.5, 0.7, 0.9, 1.1]:\n",
    "#     N_modes = 256 \n",
    "    # print(f'-----{sig_for_guass_T=}------')\n",
    "    # algos = ['L-BFGS-B', 'analytic']\n",
    "    configs = ['SLM3', 'SLM3-same-mode']\n",
    "    # algos = ['autograd', 'L-BFGS-B', 'analytic']\n",
    "    algos = ['autograd-adam', 'autograd-lbfgs']\n",
    "    # configs = ['SLM1-only-T', 'SLM1', 'SLM2', 'SLM2-simple-OPC', 'SLM3', 'SLM3-same-mode']\n",
    "    # configs = ['SLM1-only-T', 'SLM2', 'SLM2-simple-OPC', 'SLM3', 'SLM3-same-mode']\n",
    "    # configs = ['SLM1', 'SLM1-same-mode']\n",
    "    # configs = ['SLM1', 'SLM1-after', 'SLM1-same-mode', 'SLM1-only-T', 'SLM1-only-T-after']\n",
    "    T_methods = ['unitary', 'gaus_iid']\n",
    "    # T_methods = ['gaus_iid']\n",
    "    N_tries = 10\n",
    "    \n",
    "    s = QWFSSimulation(N=N_modes)\n",
    "    # s.N_pixels = N_pixels\n",
    "    # s.cost_function = 'contrast'\n",
    "    # s.sig_for_gauss_iid = sig_for_guass_T\n",
    "    # note = f'slm3_sig={sig_for_guass_T}_{N_tries}_tries_many_configs'\n",
    "    note = f'autograd_adam_lbfgs_N={N_modes}_{N_tries}_tries'\n",
    "    saveto_path = rf'G:\\My Drive\\Projects\\MPLC\\results\\simulations\\{tnow()}_qwfs_{note}.npz'\n",
    "    res = s.statistics(algos=algos, configs=configs, T_methods=T_methods, N_tries=N_tries, saveto_path=saveto_path)\n",
    "\n",
    "# results = np.zeros((N_T_methods, N_configs, N_tries, N_algos))\n",
    "res.print()\n",
    "res.show_scatterplots()\n",
    "plt.show()"
   ],
   "id": "a9e8ad74d12c2056",
   "outputs": [
    {
     "data": {
      "text/plain": [
       "101"
      ]
     },
     "metadata": {},
     "output_type": "display_data"
    },
    {
     "name": "stdout",
     "output_type": "stream",
     "text": [
      "101\n"
     ]
    }
   ],
   "execution_count": 6
  },
  {
   "metadata": {
    "ExecuteTime": {
     "end_time": "2025-01-02T07:29:42.241814Z",
     "start_time": "2025-01-02T07:29:42.130052Z"
    }
   },
   "cell_type": "markdown",
   "source": "## Show results ",
   "id": "2d13905a2bb32b9c"
  },
  {
   "metadata": {
    "ExecuteTime": {
     "end_time": "2024-11-13T11:37:08.269752Z",
     "start_time": "2024-11-13T11:37:08.160767Z"
    }
   },
   "cell_type": "code",
   "source": [
    "print(np.pi/4)\n",
    "print((np.pi/4)**2)"
   ],
   "id": "c029b72768894daf",
   "outputs": [
    {
     "name": "stdout",
     "output_type": "stream",
     "text": [
      "0.7853981633974483\n",
      "0.6168502750680849\n"
     ]
    }
   ],
   "execution_count": 31
  },
  {
   "metadata": {
    "ExecuteTime": {
     "end_time": "2024-12-24T10:32:12.615353Z",
     "start_time": "2024-12-24T10:21:21.391362Z"
    }
   },
   "cell_type": "code",
   "source": [
    "res.print()\n",
    "res.show_scatterplots()\n",
    "plt.show()"
   ],
   "id": "dfd34f8083b35f5d",
   "outputs": [
    {
     "name": "stdout",
     "output_type": "stream",
     "text": [
      "---- SLM1-only-T ----\n",
      "-- unitary --\n",
      "autograd                  0.786+-0.01\n",
      "L-BFGS-B                  0.779+-0.02\n",
      "analytic                  0.786+-0.01\n",
      "-- gaus_iid --\n",
      "autograd                  0.770+-0.04\n",
      "L-BFGS-B                  0.766+-0.04\n",
      "analytic                  0.770+-0.04\n",
      "\n",
      "---- SLM2 ----\n",
      "-- unitary --\n",
      "autograd                  0.618+-0.02\n",
      "L-BFGS-B                  0.612+-0.03\n",
      "analytic                  0.003+-0.00\n",
      "-- gaus_iid --\n",
      "autograd                  0.624+-0.04\n",
      "L-BFGS-B                  0.594+-0.11\n",
      "analytic                  0.004+-0.00\n",
      "\n",
      "---- SLM2-simple-OPC ----\n",
      "-- unitary --\n",
      "autograd                  1.000+-0.00\n",
      "L-BFGS-B                  0.989+-0.01\n",
      "analytic                  1.000+-0.00\n",
      "-- gaus_iid --\n",
      "autograd                  0.981+-0.11\n",
      "L-BFGS-B                  0.936+-0.20\n",
      "analytic                  0.981+-0.11\n",
      "\n",
      "---- SLM3 ----\n",
      "-- unitary --\n",
      "autograd                  0.875+-0.01\n",
      "L-BFGS-B                  0.830+-0.02\n",
      "analytic                  0.003+-0.00\n",
      "-- gaus_iid --\n",
      "autograd                  1.839+-0.08\n",
      "L-BFGS-B                  1.580+-0.09\n",
      "analytic                  0.004+-0.00\n",
      "\n",
      "---- SLM3-same-mode ----\n",
      "-- unitary --\n",
      "autograd                  0.999+-0.00\n",
      "L-BFGS-B                  0.999+-0.00\n",
      "analytic                  0.007+-0.01\n",
      "-- gaus_iid --\n",
      "autograd                  4.535+-0.15\n",
      "L-BFGS-B                  3.632+-0.23\n",
      "analytic                  0.009+-0.01\n",
      "\n"
     ]
    }
   ],
   "execution_count": 87
  },
  {
   "metadata": {
    "ExecuteTime": {
     "end_time": "2024-11-27T07:53:31.821485Z",
     "start_time": "2024-11-27T07:53:28.854156Z"
    }
   },
   "cell_type": "code",
   "source": [
    "# comparing whether they find the same phases \n",
    "# mplot(best_phases[0, 2, 0, :3].T)\n",
    "path = r\"G:\\My Drive\\Projects\\MPLC\\results\\simulations\\2024_11_26_16_55_09_qwfs_long_with_analytic.npz\"\n",
    "res = QWFSResult(path)"
   ],
   "id": "df2e2d62dc03694",
   "outputs": [],
   "execution_count": 61
  },
  {
   "metadata": {
    "ExecuteTime": {
     "end_time": "2024-11-27T09:04:51.105194Z",
     "start_time": "2024-11-27T09:04:50.028613Z"
    }
   },
   "cell_type": "code",
   "source": [
    "res.show_violings()\n",
    "plt.show(block=False)"
   ],
   "id": "8934edadf7b75d2f",
   "outputs": [],
   "execution_count": 95
  },
  {
   "metadata": {
    "ExecuteTime": {
     "end_time": "2024-11-26T13:38:31.845456Z",
     "start_time": "2024-11-26T13:38:31.742552Z"
    }
   },
   "cell_type": "code",
   "source": [
    "# res.__dict__.keys()\n",
    "# res.__dict__['arr_0'].item()['configs']\n",
    "res.arr_0.item()['results'].mean()"
   ],
   "id": "b27399782b24ed9e",
   "outputs": [
    {
     "data": {
      "text/plain": [
       "0.542025838584121"
      ]
     },
     "execution_count": 26,
     "metadata": {},
     "output_type": "execute_result"
    }
   ],
   "execution_count": 26
  },
  {
   "metadata": {},
   "cell_type": "markdown",
   "source": "## Understand SLM3 outputs ",
   "id": "8df22a0db4504caf"
  },
  {
   "metadata": {
    "ExecuteTime": {
     "end_time": "2024-11-28T11:53:46.181657Z",
     "start_time": "2024-11-28T11:53:43.492739Z"
    }
   },
   "cell_type": "code",
   "source": [
    "path = r\"G:\\My Drive\\Projects\\MPLC\\results\\simulations\\2024_11_26_16_55_09_qwfs_long_with_analytic.npz\"\n",
    "# path = r\"G:\\My Drive\\Projects\\MPLC\\results\\simulations\\2024_11_28_12_38_28_qwfs_slm3_N=256_2_tries.npz\"\n",
    "res = QWFSResult(path)"
   ],
   "id": "a0902c4a89aeff8b",
   "outputs": [],
   "execution_count": 183
  },
  {
   "metadata": {},
   "cell_type": "markdown",
   "source": "### Intensity at sum and distibution at crystal and camera plane",
   "id": "d489dc5d01dc3e5b"
  },
  {
   "metadata": {
    "ExecuteTime": {
     "end_time": "2024-11-28T08:27:58.366713Z",
     "start_time": "2024-11-28T08:27:58.169788Z"
    }
   },
   "cell_type": "code",
   "source": [
    "# results.shape == N_T_methods, N_configs, N_tries, N_algos\n",
    "# best_phases.shape == N_T_methods, N_configs, N_tries, N_algos, self.N\n",
    "try_no = np.random.randint(res.N_tries)\n",
    "# try_no = 5\n",
    "alg = 'L-BFGS-B'\n",
    "config = 'SLM3'\n",
    "# T_method = 'unitary'\n",
    "T_method = 'gaus_iid'\n",
    "alg_ind = np.where(res.algos == alg)[0]\n",
    "conf_ind = np.where(res.configs == config)[0]\n",
    "T_method_ind = np.where(res.T_methods == T_method)[0] \n",
    "\n",
    "T_ind = res.N_T_methods * try_no + T_method_ind \n",
    "T = res.Ts[T_ind].squeeze()\n",
    "slm_phases = res.best_phases[T_method_ind, conf_ind, try_no, alg_ind].squeeze()\n",
    "N = len(slm_phases)\n",
    "\n",
    "sim = QWFSSimulation(N=N)\n",
    "sim.T = T \n",
    "sim.slm_phases = np.exp(1j*slm_phases)\n",
    "sim.config = config\n",
    "v_out = sim.propagate()\n",
    "I_out = np.abs(v_out)**2\n",
    "I_in = np.abs(sim.v_in)**2\n",
    "v_middle = sim.T.transpose() @ (sim.slm_phases * sim.v_in)\n",
    "I_middle = np.abs(v_middle)**2\n",
    "v_back_before_ft = sim.T @ v_middle\n",
    "I_back_before_ft = np.abs(v_back_before_ft)**2\n",
    "v_final_manual = np.fft.fft(v_back_before_ft) / np.sqrt(sim.N)\n",
    "I_final_manual = np.abs(v_final_manual)**2\n",
    "fig, ax = plt.subplots()\n",
    "ax.plot(I_out, label='I_out')\n",
    "ax.plot(I_middle, label='I_middle')\n",
    "# ax.set_ylim([0, 0.05])\n",
    "ax.legend()\n",
    "fig.show()\n",
    "print(f'{I_in.sum()=}')\n",
    "print(f'{I_middle.sum()=}')\n",
    "print(f'{I_back_before_ft.sum()=}')\n",
    "print(f'{I_final_manual.sum()=}')\n",
    "print(f'{I_out.sum()=}')"
   ],
   "id": "c79fcc28a7485cd1",
   "outputs": [
    {
     "name": "stdout",
     "output_type": "stream",
     "text": [
      "I_in.sum()=1.0\n",
      "I_middle.sum()=1.7170270411623565\n",
      "I_back_before_ft.sum()=2.6383452381192534\n",
      "I_final_manual.sum()=2.6383452381192534\n",
      "I_out.sum()=2.6383452381192525\n"
     ]
    }
   ],
   "execution_count": 165
  },
  {
   "metadata": {
    "ExecuteTime": {
     "end_time": "2024-11-27T12:56:45.270515Z",
     "start_time": "2024-11-27T12:56:45.098402Z"
    }
   },
   "cell_type": "code",
   "source": "mplot((np.abs(T@T.transpose())**2).sum(axis=0))",
   "id": "baa5910e44ebbf7",
   "outputs": [
    {
     "data": {
      "text/plain": [
       "(<Figure size 640x480 with 1 Axes>, <AxesSubplot: >)"
      ]
     },
     "execution_count": 74,
     "metadata": {},
     "output_type": "execute_result"
    }
   ],
   "execution_count": 74
  },
  {
   "metadata": {},
   "cell_type": "markdown",
   "source": "### How much intensity do we get from random phases ",
   "id": "4719fbba1e2f08ea"
  },
  {
   "metadata": {
    "ExecuteTime": {
     "end_time": "2024-11-28T08:35:48.947377Z",
     "start_time": "2024-11-28T08:34:31.851350Z"
    }
   },
   "cell_type": "code",
   "source": [
    "Is = []\n",
    "for i in range(1000):\n",
    "    random_phases = np.random.uniform(0, 2*np.pi, sim.N)\n",
    "    sim.slm_phases = np.exp(1j*random_phases)\n",
    "    # sim.slm_phases = np.exp(1j*slm_phases)\n",
    "    v_out = sim.propagate()\n",
    "    I_out = np.abs(v_out)**2\n",
    "    Is.append(I_out.sum())\n",
    "    # print(f'{I_out.sum()=}')"
   ],
   "id": "b79d745d4433179",
   "outputs": [],
   "execution_count": 176
  },
  {
   "metadata": {
    "ExecuteTime": {
     "end_time": "2024-11-28T08:35:53.151444Z",
     "start_time": "2024-11-28T08:35:52.667959Z"
    }
   },
   "cell_type": "code",
   "source": [
    "fig, ax = plt.subplots(figsize=(10, 6))\n",
    "\n",
    "# Create the histogram\n",
    "ax.hist(Is, bins=100, edgecolor='black', alpha=0.7)\n",
    "ax.set_title('Histogram of Intensities (Is)')\n",
    "ax.set_xlabel('Intensity Values')\n",
    "ax.set_ylabel('Frequency')\n",
    "\n",
    "# Add statistical lines\n",
    "ax.axvline(np.mean(Is), color='red', linestyle='dashed', linewidth=2, \n",
    "           label=f'Mean: {np.mean(Is):.2f}')\n",
    "ax.axvline(np.median(Is), color='green', linestyle='dashed', linewidth=2, \n",
    "           label=f'Median: {np.median(Is):.2f}')\n",
    "\n",
    "ax.legend()\n",
    "ax.grid(True, alpha=0.3)\n",
    "\n",
    "# Adjust layout and display\n",
    "plt.tight_layout()\n",
    "fig.show()"
   ],
   "id": "467167d2e8b72313",
   "outputs": [],
   "execution_count": 177
  }
 ],
 "metadata": {
  "kernelspec": {
   "display_name": "Python 3",
   "language": "python",
   "name": "python3"
  },
  "language_info": {
   "codemirror_mode": {
    "name": "ipython",
    "version": 2
   },
   "file_extension": ".py",
   "mimetype": "text/x-python",
   "name": "python",
   "nbconvert_exporter": "python",
   "pygments_lexer": "ipython2",
   "version": "2.7.6"
  }
 },
 "nbformat": 4,
 "nbformat_minor": 5
}
